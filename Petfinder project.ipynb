{
 "cells": [
  {
   "cell_type": "markdown",
   "id": "0bde5928",
   "metadata": {},
   "source": [
    "#### Importing required packages"
   ]
  },
  {
   "cell_type": "code",
   "execution_count": 1,
   "id": "d00fa4f0",
   "metadata": {},
   "outputs": [],
   "source": [
    "import pandas as pd\n",
    "import numpy as np\n",
    "import matplotlib.pyplot as plt\n",
    "import seaborn as sns\n",
    "import tensorflow as tf\n",
    "from keras.models import Sequential\n",
    "from keras.layers import Conv2D, MaxPool2D, Flatten, Dense,Dropout, Embedding, LSTM\n",
    "from tensorflow.keras.utils import to_categorical\n",
    "import os\n",
    "import cv2\n",
    "from tensorflow.keras.preprocessing import image"
   ]
  },
  {
   "cell_type": "code",
   "execution_count": 2,
   "id": "67485a6b",
   "metadata": {},
   "outputs": [
    {
     "data": {
      "text/html": [
       "<div>\n",
       "<style scoped>\n",
       "    .dataframe tbody tr th:only-of-type {\n",
       "        vertical-align: middle;\n",
       "    }\n",
       "\n",
       "    .dataframe tbody tr th {\n",
       "        vertical-align: top;\n",
       "    }\n",
       "\n",
       "    .dataframe thead th {\n",
       "        text-align: right;\n",
       "    }\n",
       "</style>\n",
       "<table border=\"1\" class=\"dataframe\">\n",
       "  <thead>\n",
       "    <tr style=\"text-align: right;\">\n",
       "      <th></th>\n",
       "      <th>Id</th>\n",
       "      <th>Subject Focus</th>\n",
       "      <th>Eyes</th>\n",
       "      <th>Face</th>\n",
       "      <th>Near</th>\n",
       "      <th>Action</th>\n",
       "      <th>Accessory</th>\n",
       "      <th>Group</th>\n",
       "      <th>Collage</th>\n",
       "      <th>Human</th>\n",
       "      <th>Occlusion</th>\n",
       "      <th>Info</th>\n",
       "      <th>Blur</th>\n",
       "      <th>Pawpularity</th>\n",
       "    </tr>\n",
       "  </thead>\n",
       "  <tbody>\n",
       "    <tr>\n",
       "      <th>0</th>\n",
       "      <td>0007de18844b0dbbb5e1f607da0606e0</td>\n",
       "      <td>0</td>\n",
       "      <td>1</td>\n",
       "      <td>1</td>\n",
       "      <td>1</td>\n",
       "      <td>0</td>\n",
       "      <td>0</td>\n",
       "      <td>1</td>\n",
       "      <td>0</td>\n",
       "      <td>0</td>\n",
       "      <td>0</td>\n",
       "      <td>0</td>\n",
       "      <td>0</td>\n",
       "      <td>63</td>\n",
       "    </tr>\n",
       "    <tr>\n",
       "      <th>1</th>\n",
       "      <td>0009c66b9439883ba2750fb825e1d7db</td>\n",
       "      <td>0</td>\n",
       "      <td>1</td>\n",
       "      <td>1</td>\n",
       "      <td>0</td>\n",
       "      <td>0</td>\n",
       "      <td>0</td>\n",
       "      <td>0</td>\n",
       "      <td>0</td>\n",
       "      <td>0</td>\n",
       "      <td>0</td>\n",
       "      <td>0</td>\n",
       "      <td>0</td>\n",
       "      <td>42</td>\n",
       "    </tr>\n",
       "    <tr>\n",
       "      <th>2</th>\n",
       "      <td>0013fd999caf9a3efe1352ca1b0d937e</td>\n",
       "      <td>0</td>\n",
       "      <td>1</td>\n",
       "      <td>1</td>\n",
       "      <td>1</td>\n",
       "      <td>0</td>\n",
       "      <td>0</td>\n",
       "      <td>0</td>\n",
       "      <td>0</td>\n",
       "      <td>1</td>\n",
       "      <td>1</td>\n",
       "      <td>0</td>\n",
       "      <td>0</td>\n",
       "      <td>28</td>\n",
       "    </tr>\n",
       "    <tr>\n",
       "      <th>3</th>\n",
       "      <td>0018df346ac9c1d8413cfcc888ca8246</td>\n",
       "      <td>0</td>\n",
       "      <td>1</td>\n",
       "      <td>1</td>\n",
       "      <td>1</td>\n",
       "      <td>0</td>\n",
       "      <td>0</td>\n",
       "      <td>0</td>\n",
       "      <td>0</td>\n",
       "      <td>0</td>\n",
       "      <td>0</td>\n",
       "      <td>0</td>\n",
       "      <td>0</td>\n",
       "      <td>15</td>\n",
       "    </tr>\n",
       "    <tr>\n",
       "      <th>4</th>\n",
       "      <td>001dc955e10590d3ca4673f034feeef2</td>\n",
       "      <td>0</td>\n",
       "      <td>0</td>\n",
       "      <td>0</td>\n",
       "      <td>1</td>\n",
       "      <td>0</td>\n",
       "      <td>0</td>\n",
       "      <td>1</td>\n",
       "      <td>0</td>\n",
       "      <td>0</td>\n",
       "      <td>0</td>\n",
       "      <td>0</td>\n",
       "      <td>0</td>\n",
       "      <td>72</td>\n",
       "    </tr>\n",
       "  </tbody>\n",
       "</table>\n",
       "</div>"
      ],
      "text/plain": [
       "                                 Id  Subject Focus  Eyes  Face  Near  Action  \\\n",
       "0  0007de18844b0dbbb5e1f607da0606e0              0     1     1     1       0   \n",
       "1  0009c66b9439883ba2750fb825e1d7db              0     1     1     0       0   \n",
       "2  0013fd999caf9a3efe1352ca1b0d937e              0     1     1     1       0   \n",
       "3  0018df346ac9c1d8413cfcc888ca8246              0     1     1     1       0   \n",
       "4  001dc955e10590d3ca4673f034feeef2              0     0     0     1       0   \n",
       "\n",
       "   Accessory  Group  Collage  Human  Occlusion  Info  Blur  Pawpularity  \n",
       "0          0      1        0      0          0     0     0           63  \n",
       "1          0      0        0      0          0     0     0           42  \n",
       "2          0      0        0      1          1     0     0           28  \n",
       "3          0      0        0      0          0     0     0           15  \n",
       "4          0      1        0      0          0     0     0           72  "
      ]
     },
     "execution_count": 2,
     "metadata": {},
     "output_type": "execute_result"
    }
   ],
   "source": [
    "pet = pd.read_csv(r\"E:\\Data Science\\Project\\petfinder\\train.csv\")\n",
    "pet.head()"
   ]
  },
  {
   "cell_type": "code",
   "execution_count": 3,
   "id": "73fb02f9",
   "metadata": {},
   "outputs": [
    {
     "data": {
      "text/plain": [
       "(9912, 14)"
      ]
     },
     "execution_count": 3,
     "metadata": {},
     "output_type": "execute_result"
    }
   ],
   "source": [
    "pet.shape"
   ]
  },
  {
   "cell_type": "code",
   "execution_count": 4,
   "id": "3809b7df",
   "metadata": {},
   "outputs": [
    {
     "data": {
      "text/plain": [
       "array([ 63,  42,  28,  15,  72,  74,  22,  35,  53,  21,   2,  18,  41,\n",
       "        13,  98,  34,  69, 100,  29,  27,  50,  36,  52,  40,  31,  67,\n",
       "        54,  30,  68,  24,  47,  16,  95,  37,  46,  62,  25,  23,  33,\n",
       "        32,  17,  82,  55,  58,  19,  26,  39,  57,  38,  51,  60,  49,\n",
       "        14,  75,  43,  88,  94,  91,   4,  45,   3,  89,  48,  12,  20,\n",
       "        61,  71,  97,   7,  79,  11,  56,  10,  65,   8,   5,  80,  59,\n",
       "         9,  87,  44,  92,   6,  73,  64,  96,  83,  77,  93,  78,  84,\n",
       "        70,  81,  66,  76,  90,  85,  86,   1,  99], dtype=int64)"
      ]
     },
     "execution_count": 4,
     "metadata": {},
     "output_type": "execute_result"
    }
   ],
   "source": [
    "pet.Pawpularity.unique()"
   ]
  },
  {
   "cell_type": "code",
   "execution_count": 5,
   "id": "09f12826",
   "metadata": {},
   "outputs": [
    {
     "data": {
      "text/plain": [
       "100"
      ]
     },
     "execution_count": 5,
     "metadata": {},
     "output_type": "execute_result"
    }
   ],
   "source": [
    "len(pet.Pawpularity.unique())"
   ]
  },
  {
   "cell_type": "markdown",
   "id": "f3275706",
   "metadata": {},
   "source": [
    "### Importing images matching with the name and its Pawpularity score"
   ]
  },
  {
   "cell_type": "code",
   "execution_count": 6,
   "id": "6b04b80f",
   "metadata": {},
   "outputs": [],
   "source": [
    "image_size = 200 \n",
    "input_image = []    \n",
    "folders = r'E:\\Data Science\\Project\\petfinder\\train'\n",
    "i = 0\n",
    "for i in range(0,pet.shape[0]):\n",
    "    image_path  = os.path.join(folders , pet['Id'][i]+'.jpg')\n",
    "    image_array =  cv2.imread(image_path) \n",
    "    image_array =cv2.resize(image_array , (image_size  , image_size) ) \n",
    "    input_image.append([image_array , pet['Pawpularity'][i]])# image\n",
    "    if i==500:\n",
    "        break\n"
   ]
  },
  {
   "cell_type": "code",
   "execution_count": null,
   "id": "277073e8",
   "metadata": {},
   "outputs": [],
   "source": []
  },
  {
   "cell_type": "code",
   "execution_count": 7,
   "id": "bdfeb80a",
   "metadata": {},
   "outputs": [],
   "source": [
    "x = []\n",
    "y = []\n",
    "for i,j in input_image:\n",
    "    x.append(i)\n",
    "    y.append(j)"
   ]
  },
  {
   "cell_type": "markdown",
   "id": "0c90f105",
   "metadata": {},
   "source": [
    "#### Sampling"
   ]
  },
  {
   "cell_type": "code",
   "execution_count": 8,
   "id": "71976082",
   "metadata": {},
   "outputs": [],
   "source": [
    "from sklearn.model_selection import train_test_split\n",
    "\n",
    "train_x, test_x, train_y, test_y = train_test_split(x, y, test_size=0.2)"
   ]
  },
  {
   "cell_type": "code",
   "execution_count": 9,
   "id": "b0e756ee",
   "metadata": {},
   "outputs": [],
   "source": [
    "train_x= np.array(train_x)\n",
    "test_x= np.array(test_x)\n",
    "train_y = np.array(train_y)"
   ]
  },
  {
   "cell_type": "code",
   "execution_count": 10,
   "id": "d63e25df",
   "metadata": {},
   "outputs": [
    {
     "data": {
      "text/plain": [
       "(400, 200, 200, 3)"
      ]
     },
     "execution_count": 10,
     "metadata": {},
     "output_type": "execute_result"
    }
   ],
   "source": [
    "train_x.shape"
   ]
  },
  {
   "cell_type": "code",
   "execution_count": 11,
   "id": "c8399882",
   "metadata": {},
   "outputs": [
    {
     "data": {
      "text/plain": [
       "<matplotlib.image.AxesImage at 0x2b9ec696d00>"
      ]
     },
     "execution_count": 11,
     "metadata": {},
     "output_type": "execute_result"
    },
    {
     "data": {
      "image/png": "[encoded data removed]",
      "text/plain": [
       "<Figure size 432x288 with 1 Axes>"
      ]
     },
     "metadata": {
      "needs_background": "light"
     },
     "output_type": "display_data"
    }
   ],
   "source": [
    "plt.imshow(train_x[7])"
   ]
  },
  {
   "cell_type": "code",
   "execution_count": null,
   "id": "51e54f68",
   "metadata": {},
   "outputs": [],
   "source": []
  },
  {
   "cell_type": "markdown",
   "id": "5e6abc25",
   "metadata": {},
   "source": [
    "#### normalization"
   ]
  },
  {
   "cell_type": "code",
   "execution_count": 12,
   "id": "883033de",
   "metadata": {},
   "outputs": [],
   "source": [
    "train_x = train_x/255"
   ]
  },
  {
   "cell_type": "code",
   "execution_count": 13,
   "id": "70acc4c2",
   "metadata": {},
   "outputs": [],
   "source": [
    "test_x = test_x/255"
   ]
  },
  {
   "cell_type": "code",
   "execution_count": null,
   "id": "82c18a0c",
   "metadata": {},
   "outputs": [],
   "source": []
  },
  {
   "cell_type": "code",
   "execution_count": 14,
   "id": "f79a4401",
   "metadata": {},
   "outputs": [
    {
     "data": {
      "text/plain": [
       "(400, 200, 200, 3)"
      ]
     },
     "execution_count": 14,
     "metadata": {},
     "output_type": "execute_result"
    }
   ],
   "source": [
    "train_x.shape"
   ]
  },
  {
   "cell_type": "code",
   "execution_count": 15,
   "id": "94dec85d",
   "metadata": {},
   "outputs": [
    {
     "data": {
      "text/plain": [
       "(200, 200, 3)"
      ]
     },
     "execution_count": 15,
     "metadata": {},
     "output_type": "execute_result"
    }
   ],
   "source": [
    "train_x.shape[1:]"
   ]
  },
  {
   "cell_type": "code",
   "execution_count": null,
   "id": "d7bbe7bf",
   "metadata": {},
   "outputs": [],
   "source": []
  },
  {
   "cell_type": "markdown",
   "id": "02b273ad",
   "metadata": {},
   "source": [
    "#### now lets create an architecture"
   ]
  },
  {
   "cell_type": "code",
   "execution_count": 23,
   "id": "8e552a7d",
   "metadata": {},
   "outputs": [],
   "source": [
    "model = Sequential()\n",
    "model.add(Conv2D(filters = 32 , kernel_size =(3,3) , activation ='relu'  , input_shape = train_x.shape[1:]  ))\n",
    "model.add(MaxPool2D(pool_size =(2,2)))\n",
    "model.add(Flatten())\n",
    "\n",
    "model.add(Dense(64 , activation = 'relu'))\n",
    "model.add(Dropout(0.25))\n",
    "\n",
    "model.add(Dense(1 , activation= 'linear')) \n",
    "model.compile(optimizer='adam', loss = 'mean_squared_error' , metrics = ['mse'])"
   ]
  },
  {
   "cell_type": "code",
   "execution_count": 24,
   "id": "6e982406",
   "metadata": {},
   "outputs": [
    {
     "name": "stdout",
     "output_type": "stream",
     "text": [
      "Epoch 1/10\n",
      "13/13 [==============================] - 10s 648ms/step - loss: 886.2512 - mse: 886.2512\n",
      "Epoch 2/10\n",
      "13/13 [==============================] - 8s 596ms/step - loss: 541.1558 - mse: 541.1558\n",
      "Epoch 3/10\n",
      "13/13 [==============================] - 8s 587ms/step - loss: 543.6939 - mse: 543.6939\n",
      "Epoch 4/10\n",
      "13/13 [==============================] - 8s 596ms/step - loss: 492.5937 - mse: 492.5937\n",
      "Epoch 5/10\n",
      "13/13 [==============================] - 8s 582ms/step - loss: 480.7471 - mse: 480.7471\n",
      "Epoch 6/10\n",
      "13/13 [==============================] - 8s 588ms/step - loss: 404.9454 - mse: 404.9454\n",
      "Epoch 7/10\n",
      "13/13 [==============================] - 8s 590ms/step - loss: 383.3375 - mse: 383.3375\n",
      "Epoch 8/10\n",
      "13/13 [==============================] - 8s 592ms/step - loss: 339.4019 - mse: 339.4019\n",
      "Epoch 9/10\n",
      "13/13 [==============================] - 8s 596ms/step - loss: 323.9749 - mse: 323.9749\n",
      "Epoch 10/10\n",
      "13/13 [==============================] - 8s 592ms/step - loss: 291.5997 - mse: 291.5997\n"
     ]
    },
    {
     "data": {
      "text/plain": [
       "<keras.callbacks.History at 0x2b9eeb942b0>"
      ]
     },
     "execution_count": 24,
     "metadata": {},
     "output_type": "execute_result"
    }
   ],
   "source": [
    "model.fit(train_x , train_y ,epochs = 10 )"
   ]
  },
  {
   "cell_type": "code",
   "execution_count": null,
   "id": "deaf5058",
   "metadata": {},
   "outputs": [],
   "source": []
  },
  {
   "cell_type": "code",
   "execution_count": 25,
   "id": "aab8c9f8",
   "metadata": {},
   "outputs": [
    {
     "name": "stdout",
     "output_type": "stream",
     "text": [
      "4/4 [==============================] - 1s 120ms/step\n"
     ]
    }
   ],
   "source": [
    "pred = model.predict(test_x)"
   ]
  },
  {
   "cell_type": "code",
   "execution_count": 26,
   "id": "e296023a",
   "metadata": {},
   "outputs": [],
   "source": [
    "pred_classes = np.squeeze(pred, axis = 1)"
   ]
  },
  {
   "cell_type": "code",
   "execution_count": 27,
   "id": "0a02e4c4",
   "metadata": {},
   "outputs": [],
   "source": [
    "from sklearn.metrics import mean_absolute_percentage_error, mean_squared_error"
   ]
  },
  {
   "cell_type": "code",
   "execution_count": 28,
   "id": "05a52d5f",
   "metadata": {},
   "outputs": [
    {
     "data": {
      "text/plain": [
       "0.49989783567484625"
      ]
     },
     "execution_count": 28,
     "metadata": {},
     "output_type": "execute_result"
    }
   ],
   "source": [
    "mean_absolute_percentage_error(test_y, pred_classes)"
   ]
  },
  {
   "cell_type": "code",
   "execution_count": 29,
   "id": "07e7167b",
   "metadata": {},
   "outputs": [
    {
     "data": {
      "text/plain": [
       "21.26838567194722"
      ]
     },
     "execution_count": 29,
     "metadata": {},
     "output_type": "execute_result"
    }
   ],
   "source": [
    "rmse = np.sqrt(mean_squared_error(test_y, pred_classes))\n",
    "rmse"
   ]
  },
  {
   "cell_type": "code",
   "execution_count": null,
   "id": "5b0f3e3e",
   "metadata": {},
   "outputs": [],
   "source": []
  },
  {
   "cell_type": "code",
   "execution_count": null,
   "id": "30d90317",
   "metadata": {},
   "outputs": [],
   "source": []
  }
 ],
 "metadata": {
  "kernelspec": {
   "display_name": "Python 3 (ipykernel)",
   "language": "python",
   "name": "python3"
  },
  "language_info": {
   "codemirror_mode": {
    "name": "ipython",
    "version": 3
   },
   "file_extension": ".py",
   "mimetype": "text/x-python",
   "name": "python",
   "nbconvert_exporter": "python",
   "pygments_lexer": "ipython3",
   "version": "3.9.7"
  }
 },
 "nbformat": 4,
 "nbformat_minor": 5
}
